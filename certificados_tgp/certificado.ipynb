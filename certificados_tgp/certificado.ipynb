{
 "cells": [
  {
   "cell_type": "code",
   "execution_count": 1,
   "id": "6d805738",
   "metadata": {},
   "outputs": [],
   "source": [
    "import pandas as pd\n",
    "import openpyxl"
   ]
  },
  {
   "cell_type": "code",
   "execution_count": 2,
   "id": "a88da2af",
   "metadata": {},
   "outputs": [
    {
     "name": "stderr",
     "output_type": "stream",
     "text": [
      "<>:2: SyntaxWarning: invalid escape sequence '\\m'\n",
      "<>:2: SyntaxWarning: invalid escape sequence '\\m'\n",
      "C:\\Users\\jorge\\AppData\\Local\\Temp\\ipykernel_20392\\3374849408.py:2: SyntaxWarning: invalid escape sequence '\\m'\n",
      "  df_ente = pd.read_excel('D:\\mefi\\certificados_tgp\\ENTE.xlsx', sheet_name='ENTE', engine='openpyxl')\n"
     ]
    },
    {
     "data": {
      "application/vnd.microsoft.datawrangler.viewer.v0+json": {
       "columns": [
        {
         "name": "index",
         "rawType": "object",
         "type": "string"
        },
        {
         "name": "0",
         "rawType": "object",
         "type": "unknown"
        }
       ],
       "ref": "81aff705-eb0d-47aa-bb59-a11422e19912",
       "rows": [
        [
         "Número de Ente",
         "object"
        ],
        [
         "Id.Ente",
         "int64"
        ],
        [
         "CUIT",
         "object"
        ],
        [
         "Denominación Ente",
         "object"
        ],
        [
         "DOMICILIO",
         "object"
        ]
       ],
       "shape": {
        "columns": 1,
        "rows": 5
       }
      },
      "text/plain": [
       "Número de Ente       object\n",
       "Id.Ente               int64\n",
       "CUIT                 object\n",
       "Denominación Ente    object\n",
       "DOMICILIO            object\n",
       "dtype: object"
      ]
     },
     "execution_count": 2,
     "metadata": {},
     "output_type": "execute_result"
    }
   ],
   "source": [
    "# Leer el archivo ENTE.xlsx\n",
    "df_ente = pd.read_excel('D:\\mefi\\certificados_tgp\\ENTE.xlsx', sheet_name='ENTE', engine='openpyxl')\n",
    "df_ente.dtypes"
   ]
  },
  {
   "cell_type": "code",
   "execution_count": 3,
   "id": "e16b71e0",
   "metadata": {},
   "outputs": [
    {
     "name": "stdout",
     "output_type": "stream",
     "text": [
      "             NRO CERTIFICADO COD SEG   ESTADO       AGENTE  \\\n",
      "0  3070253399220250000006355   '5a0b  EMITIDO  30702533992   \n",
      "1  3070253399220250000006366   '5a16  EMITIDO  30702533992   \n",
      "2  3070253399220250000006365   '5a15  EMITIDO  30702533992   \n",
      "3  3070253399220250000006364   '5a14  EMITIDO  30702533992   \n",
      "4  3070253399220250000006363   '5a13  EMITIDO  30702533992   \n",
      "\n",
      "   RETENIDO/ ORDENANTE  FORM  IMPUESTO  RÉGIMEN FECHA EMISIÓN FECHA RET/PER  \\\n",
      "0          30717088243  2004       353      755    28/08/2025    27/08/2025   \n",
      "1          27257794402  2004       353      755    28/08/2025    27/08/2025   \n",
      "2          30718030400  2004       353      755    28/08/2025    27/08/2025   \n",
      "3          20202115307  2004       353      755    28/08/2025    27/08/2025   \n",
      "4          30716740885  2004       353      755    28/08/2025    27/08/2025   \n",
      "\n",
      "   ...  FECHA COMPROBANTE IMPORTE BASE CÁLCULO CÓDIGO OPERACIÓN     LOTE  \\\n",
      "0  ...         27/08/2025                  NaN                1  1022014   \n",
      "1  ...         27/08/2025                  NaN                1  1022014   \n",
      "2  ...         27/08/2025                  NaN                1  1022014   \n",
      "3  ...         27/08/2025                  NaN                1  1022014   \n",
      "4  ...         27/08/2025                  NaN                1  1022014   \n",
      "\n",
      "   FECHA MODIFICACIÓN REMPLAZA A  REMPLAZADO POR  NRO. CERTIFICADO ORIGINAL  \\\n",
      "0          28/08/2025        NaN             NaN                        NaN   \n",
      "1          28/08/2025        NaN             NaN                        NaN   \n",
      "2          28/08/2025        NaN             NaN                        NaN   \n",
      "3          28/08/2025        NaN             NaN                        NaN   \n",
      "4          28/08/2025        NaN             NaN                        NaN   \n",
      "\n",
      "       USUARIO CÓDIGO DE TRAZABILIDAD  \n",
      "0  27248614590                    NaN  \n",
      "1  27248614590                    NaN  \n",
      "2  27248614590                    NaN  \n",
      "3  27248614590                    NaN  \n",
      "4  27248614590                    NaN  \n",
      "\n",
      "[5 rows x 25 columns]\n"
     ]
    },
    {
     "name": "stderr",
     "output_type": "stream",
     "text": [
      "<>:2: SyntaxWarning: invalid escape sequence '\\m'\n",
      "<>:2: SyntaxWarning: invalid escape sequence '\\m'\n",
      "C:\\Users\\jorge\\AppData\\Local\\Temp\\ipykernel_20392\\2023455132.py:2: SyntaxWarning: invalid escape sequence '\\m'\n",
      "  df_certificados = pd.read_csv('D:\\mefi\\certificados_tgp\\Consulta-certificados-29_08_2025-1756476259521.csv', delimiter=',', encoding='latin1')\n"
     ]
    }
   ],
   "source": [
    "# Leer el archivo csv\n",
    "df_certificados = pd.read_csv('D:\\mefi\\certificados_tgp\\Consulta-certificados-29_08_2025-1756476259521.csv', delimiter=',', encoding='latin1')\n",
    "print(df_certificados.head(5))"
   ]
  },
  {
   "cell_type": "code",
   "execution_count": 4,
   "id": "9779be55",
   "metadata": {},
   "outputs": [
    {
     "data": {
      "text/plain": [
       "np.int64(0)"
      ]
     },
     "execution_count": 4,
     "metadata": {},
     "output_type": "execute_result"
    }
   ],
   "source": [
    "df_ente['CUIT'].isnull().sum()"
   ]
  },
  {
   "cell_type": "code",
   "execution_count": 5,
   "id": "0d6c05f2",
   "metadata": {},
   "outputs": [
    {
     "data": {
      "application/vnd.microsoft.datawrangler.viewer.v0+json": {
       "columns": [
        {
         "name": "index",
         "rawType": "object",
         "type": "string"
        },
        {
         "name": "0",
         "rawType": "object",
         "type": "unknown"
        }
       ],
       "ref": "9929c7fe-e892-4441-ab6c-9715dd5b839a",
       "rows": [
        [
         "Número de Ente",
         "object"
        ],
        [
         "Id.Ente",
         "int64"
        ],
        [
         "CUIT",
         "object"
        ],
        [
         "Denominación Ente",
         "object"
        ],
        [
         "DOMICILIO",
         "object"
        ]
       ],
       "shape": {
        "columns": 1,
        "rows": 5
       }
      },
      "text/plain": [
       "Número de Ente       object\n",
       "Id.Ente               int64\n",
       "CUIT                 object\n",
       "Denominación Ente    object\n",
       "DOMICILIO            object\n",
       "dtype: object"
      ]
     },
     "execution_count": 5,
     "metadata": {},
     "output_type": "execute_result"
    }
   ],
   "source": [
    "# al df_ente la columan 'CUIT' la convierto a enteros\n",
    "df_ente['CUIT'] = df_ente['CUIT'].str.replace('-', '')\n",
    "df_ente['CUIT']\n",
    "df_ente.dtypes\n"
   ]
  },
  {
   "cell_type": "code",
   "execution_count": 6,
   "id": "a18b3f77",
   "metadata": {},
   "outputs": [
    {
     "data": {
      "application/vnd.microsoft.datawrangler.viewer.v0+json": {
       "columns": [
        {
         "name": "index",
         "rawType": "object",
         "type": "string"
        },
        {
         "name": "0",
         "rawType": "object",
         "type": "unknown"
        }
       ],
       "ref": "83ec05a3-86f7-4064-a058-62978a333ef6",
       "rows": [
        [
         "Número de Ente",
         "object"
        ],
        [
         "Id.Ente",
         "int64"
        ],
        [
         "CUIT",
         "int64"
        ],
        [
         "Denominación Ente",
         "object"
        ],
        [
         "DOMICILIO",
         "object"
        ]
       ],
       "shape": {
        "columns": 1,
        "rows": 5
       }
      },
      "text/plain": [
       "Número de Ente       object\n",
       "Id.Ente               int64\n",
       "CUIT                  int64\n",
       "Denominación Ente    object\n",
       "DOMICILIO            object\n",
       "dtype: object"
      ]
     },
     "execution_count": 6,
     "metadata": {},
     "output_type": "execute_result"
    }
   ],
   "source": [
    "df_ente['CUIT'] = df_ente['CUIT'].astype(int)\n",
    "df_ente.dtypes"
   ]
  },
  {
   "cell_type": "code",
   "execution_count": 7,
   "id": "660c5925",
   "metadata": {},
   "outputs": [
    {
     "data": {
      "application/vnd.microsoft.datawrangler.viewer.v0+json": {
       "columns": [
        {
         "name": "index",
         "rawType": "object",
         "type": "string"
        },
        {
         "name": "0",
         "rawType": "object",
         "type": "unknown"
        }
       ],
       "ref": "ba0abe77-98eb-411d-b82c-f20312f18402",
       "rows": [
        [
         "NRO CERTIFICADO",
         "object"
        ],
        [
         "COD SEG",
         "object"
        ],
        [
         "ESTADO",
         "object"
        ],
        [
         "AGENTE",
         "int64"
        ],
        [
         "RETENIDO/ ORDENANTE",
         "int64"
        ],
        [
         "FORM",
         "int64"
        ],
        [
         "IMPUESTO",
         "int64"
        ],
        [
         "RÉGIMEN",
         "int64"
        ],
        [
         "FECHA EMISIÓN",
         "object"
        ],
        [
         "FECHA RET/PER",
         "object"
        ],
        [
         "PERÍODO",
         "int64"
        ],
        [
         "TIPO COMP",
         "object"
        ],
        [
         "IMPORTE RET/PER",
         "object"
        ],
        [
         "IMPORTE COMPROBANTE",
         "object"
        ],
        [
         "NÚMERO COMPROBANTE",
         "int64"
        ],
        [
         "FECHA COMPROBANTE",
         "object"
        ],
        [
         "IMPORTE BASE CÁLCULO",
         "float64"
        ],
        [
         "CÓDIGO OPERACIÓN",
         "int64"
        ],
        [
         "LOTE",
         "int64"
        ],
        [
         "FECHA MODIFICACIÓN",
         "object"
        ],
        [
         "REMPLAZA A",
         "float64"
        ],
        [
         "REMPLAZADO POR",
         "float64"
        ],
        [
         "NRO. CERTIFICADO ORIGINAL",
         "float64"
        ],
        [
         "USUARIO",
         "int64"
        ],
        [
         "CÓDIGO DE TRAZABILIDAD",
         "float64"
        ]
       ],
       "shape": {
        "columns": 1,
        "rows": 25
       }
      },
      "text/plain": [
       "NRO CERTIFICADO               object\n",
       "COD SEG                       object\n",
       "ESTADO                        object\n",
       "AGENTE                         int64\n",
       "RETENIDO/ ORDENANTE            int64\n",
       "FORM                           int64\n",
       "IMPUESTO                       int64\n",
       "RÉGIMEN                        int64\n",
       "FECHA EMISIÓN                 object\n",
       "FECHA RET/PER                 object\n",
       "PERÍODO                        int64\n",
       "TIPO COMP                     object\n",
       "IMPORTE RET/PER               object\n",
       "IMPORTE COMPROBANTE           object\n",
       "NÚMERO COMPROBANTE             int64\n",
       "FECHA COMPROBANTE             object\n",
       "IMPORTE BASE CÁLCULO         float64\n",
       "CÓDIGO OPERACIÓN               int64\n",
       "LOTE                           int64\n",
       "FECHA MODIFICACIÓN            object\n",
       "REMPLAZA A                   float64\n",
       "REMPLAZADO POR               float64\n",
       "NRO. CERTIFICADO ORIGINAL    float64\n",
       "USUARIO                        int64\n",
       "CÓDIGO DE TRAZABILIDAD       float64\n",
       "dtype: object"
      ]
     },
     "execution_count": 7,
     "metadata": {},
     "output_type": "execute_result"
    }
   ],
   "source": [
    "df_certificados.dtypes"
   ]
  },
  {
   "cell_type": "code",
   "execution_count": 8,
   "id": "a4d7138a",
   "metadata": {},
   "outputs": [],
   "source": [
    "# Unir df_certificados con df_ente para obtener la Denominacion Agente\n",
    "df_certificados = pd.merge(\n",
    "    df_certificados,\n",
    "    df_ente[['CUIT', 'Denominación Ente']],\n",
    "    left_on='AGENTE',\n",
    "    right_on='CUIT',\n",
    "    how='left'\n",
    ")\n",
    "\n",
    "# Renombrar la columna 'Denominacion Agente' a 'Nombre AGENTE'\n",
    "df_certificados = df_certificados.rename(columns={'Denominación Ente': 'Nombre Ente'})\n",
    "\n",
    "# Opcional: eliminar la columna 'CUIT' agregada por el merge si no la necesitas\n",
    "df_certificados = df_certificados.drop(columns=['CUIT'])"
   ]
  },
  {
   "cell_type": "code",
   "execution_count": 9,
   "id": "ad2d8d70",
   "metadata": {},
   "outputs": [
    {
     "data": {
      "application/vnd.microsoft.datawrangler.viewer.v0+json": {
       "columns": [
        {
         "name": "index",
         "rawType": "int64",
         "type": "integer"
        },
        {
         "name": "NRO CERTIFICADO",
         "rawType": "object",
         "type": "string"
        },
        {
         "name": "COD SEG",
         "rawType": "object",
         "type": "string"
        },
        {
         "name": "ESTADO",
         "rawType": "object",
         "type": "string"
        },
        {
         "name": "AGENTE",
         "rawType": "int64",
         "type": "integer"
        },
        {
         "name": "RETENIDO/ ORDENANTE",
         "rawType": "int64",
         "type": "integer"
        },
        {
         "name": "FORM",
         "rawType": "int64",
         "type": "integer"
        },
        {
         "name": "IMPUESTO",
         "rawType": "int64",
         "type": "integer"
        },
        {
         "name": "RÉGIMEN",
         "rawType": "int64",
         "type": "integer"
        },
        {
         "name": "FECHA EMISIÓN",
         "rawType": "object",
         "type": "string"
        },
        {
         "name": "FECHA RET/PER",
         "rawType": "object",
         "type": "string"
        },
        {
         "name": "PERÍODO",
         "rawType": "int64",
         "type": "integer"
        },
        {
         "name": "TIPO COMP",
         "rawType": "object",
         "type": "string"
        },
        {
         "name": "IMPORTE RET/PER",
         "rawType": "object",
         "type": "string"
        },
        {
         "name": "IMPORTE COMPROBANTE",
         "rawType": "object",
         "type": "string"
        },
        {
         "name": "NÚMERO COMPROBANTE",
         "rawType": "int64",
         "type": "integer"
        },
        {
         "name": "FECHA COMPROBANTE",
         "rawType": "object",
         "type": "string"
        },
        {
         "name": "IMPORTE BASE CÁLCULO",
         "rawType": "float64",
         "type": "float"
        },
        {
         "name": "CÓDIGO OPERACIÓN",
         "rawType": "int64",
         "type": "integer"
        },
        {
         "name": "LOTE",
         "rawType": "int64",
         "type": "integer"
        },
        {
         "name": "FECHA MODIFICACIÓN",
         "rawType": "object",
         "type": "string"
        },
        {
         "name": "REMPLAZA A",
         "rawType": "float64",
         "type": "float"
        },
        {
         "name": "REMPLAZADO POR",
         "rawType": "float64",
         "type": "float"
        },
        {
         "name": "NRO. CERTIFICADO ORIGINAL",
         "rawType": "float64",
         "type": "float"
        },
        {
         "name": "USUARIO",
         "rawType": "int64",
         "type": "integer"
        },
        {
         "name": "CÓDIGO DE TRAZABILIDAD",
         "rawType": "float64",
         "type": "float"
        },
        {
         "name": "Nombre Ente",
         "rawType": "object",
         "type": "string"
        }
       ],
       "ref": "026b84e4-1a69-4607-a24a-03a7f6712e7d",
       "rows": [
        [
         "0",
         "3070253399220250000006355",
         "'5a0b",
         "EMITIDO",
         "30702533992",
         "30717088243",
         "2004",
         "353",
         "755",
         "28/08/2025",
         "27/08/2025",
         "202508",
         "OP",
         "7.582,01",
         "758.201,38",
         "367",
         "27/08/2025",
         null,
         "1",
         "1022014",
         "28/08/2025",
         null,
         null,
         null,
         "27248614590",
         null,
         "Tesorería General de la Santa Cruz"
        ],
        [
         "1",
         "3070253399220250000006366",
         "'5a16",
         "EMITIDO",
         "30702533992",
         "27257794402",
         "2004",
         "353",
         "755",
         "28/08/2025",
         "27/08/2025",
         "202508",
         "OP",
         "5.773,80",
         "577.380,00",
         "340",
         "27/08/2025",
         null,
         "1",
         "1022014",
         "28/08/2025",
         null,
         null,
         null,
         "27248614590",
         null,
         "Tesorería General de la Santa Cruz"
        ],
        [
         "2",
         "3070253399220250000006365",
         "'5a15",
         "EMITIDO",
         "30702533992",
         "30718030400",
         "2004",
         "353",
         "755",
         "28/08/2025",
         "27/08/2025",
         "202508",
         "OP",
         "2.697,50",
         "269.750,00",
         "343",
         "27/08/2025",
         null,
         "1",
         "1022014",
         "28/08/2025",
         null,
         null,
         null,
         "27248614590",
         null,
         "Tesorería General de la Santa Cruz"
        ],
        [
         "3",
         "3070253399220250000006364",
         "'5a14",
         "EMITIDO",
         "30702533992",
         "20202115307",
         "2004",
         "353",
         "755",
         "28/08/2025",
         "27/08/2025",
         "202508",
         "OP",
         "20.321,00",
         "2.032.100,00",
         "346",
         "27/08/2025",
         null,
         "1",
         "1022014",
         "28/08/2025",
         null,
         null,
         null,
         "27248614590",
         null,
         "Tesorería General de la Santa Cruz"
        ],
        [
         "4",
         "3070253399220250000006363",
         "'5a13",
         "EMITIDO",
         "30702533992",
         "30716740885",
         "2004",
         "353",
         "755",
         "28/08/2025",
         "27/08/2025",
         "202508",
         "OP",
         "1.315,03",
         "131.503,44",
         "349",
         "27/08/2025",
         null,
         "1",
         "1022014",
         "28/08/2025",
         null,
         null,
         null,
         "27248614590",
         null,
         "Tesorería General de la Santa Cruz"
        ]
       ],
       "shape": {
        "columns": 26,
        "rows": 5
       }
      },
      "text/html": [
       "<div>\n",
       "<style scoped>\n",
       "    .dataframe tbody tr th:only-of-type {\n",
       "        vertical-align: middle;\n",
       "    }\n",
       "\n",
       "    .dataframe tbody tr th {\n",
       "        vertical-align: top;\n",
       "    }\n",
       "\n",
       "    .dataframe thead th {\n",
       "        text-align: right;\n",
       "    }\n",
       "</style>\n",
       "<table border=\"1\" class=\"dataframe\">\n",
       "  <thead>\n",
       "    <tr style=\"text-align: right;\">\n",
       "      <th></th>\n",
       "      <th>NRO CERTIFICADO</th>\n",
       "      <th>COD SEG</th>\n",
       "      <th>ESTADO</th>\n",
       "      <th>AGENTE</th>\n",
       "      <th>RETENIDO/ ORDENANTE</th>\n",
       "      <th>FORM</th>\n",
       "      <th>IMPUESTO</th>\n",
       "      <th>RÉGIMEN</th>\n",
       "      <th>FECHA EMISIÓN</th>\n",
       "      <th>FECHA RET/PER</th>\n",
       "      <th>...</th>\n",
       "      <th>IMPORTE BASE CÁLCULO</th>\n",
       "      <th>CÓDIGO OPERACIÓN</th>\n",
       "      <th>LOTE</th>\n",
       "      <th>FECHA MODIFICACIÓN</th>\n",
       "      <th>REMPLAZA A</th>\n",
       "      <th>REMPLAZADO POR</th>\n",
       "      <th>NRO. CERTIFICADO ORIGINAL</th>\n",
       "      <th>USUARIO</th>\n",
       "      <th>CÓDIGO DE TRAZABILIDAD</th>\n",
       "      <th>Nombre Ente</th>\n",
       "    </tr>\n",
       "  </thead>\n",
       "  <tbody>\n",
       "    <tr>\n",
       "      <th>0</th>\n",
       "      <td>3070253399220250000006355</td>\n",
       "      <td>'5a0b</td>\n",
       "      <td>EMITIDO</td>\n",
       "      <td>30702533992</td>\n",
       "      <td>30717088243</td>\n",
       "      <td>2004</td>\n",
       "      <td>353</td>\n",
       "      <td>755</td>\n",
       "      <td>28/08/2025</td>\n",
       "      <td>27/08/2025</td>\n",
       "      <td>...</td>\n",
       "      <td>NaN</td>\n",
       "      <td>1</td>\n",
       "      <td>1022014</td>\n",
       "      <td>28/08/2025</td>\n",
       "      <td>NaN</td>\n",
       "      <td>NaN</td>\n",
       "      <td>NaN</td>\n",
       "      <td>27248614590</td>\n",
       "      <td>NaN</td>\n",
       "      <td>Tesorería General de la Santa Cruz</td>\n",
       "    </tr>\n",
       "    <tr>\n",
       "      <th>1</th>\n",
       "      <td>3070253399220250000006366</td>\n",
       "      <td>'5a16</td>\n",
       "      <td>EMITIDO</td>\n",
       "      <td>30702533992</td>\n",
       "      <td>27257794402</td>\n",
       "      <td>2004</td>\n",
       "      <td>353</td>\n",
       "      <td>755</td>\n",
       "      <td>28/08/2025</td>\n",
       "      <td>27/08/2025</td>\n",
       "      <td>...</td>\n",
       "      <td>NaN</td>\n",
       "      <td>1</td>\n",
       "      <td>1022014</td>\n",
       "      <td>28/08/2025</td>\n",
       "      <td>NaN</td>\n",
       "      <td>NaN</td>\n",
       "      <td>NaN</td>\n",
       "      <td>27248614590</td>\n",
       "      <td>NaN</td>\n",
       "      <td>Tesorería General de la Santa Cruz</td>\n",
       "    </tr>\n",
       "    <tr>\n",
       "      <th>2</th>\n",
       "      <td>3070253399220250000006365</td>\n",
       "      <td>'5a15</td>\n",
       "      <td>EMITIDO</td>\n",
       "      <td>30702533992</td>\n",
       "      <td>30718030400</td>\n",
       "      <td>2004</td>\n",
       "      <td>353</td>\n",
       "      <td>755</td>\n",
       "      <td>28/08/2025</td>\n",
       "      <td>27/08/2025</td>\n",
       "      <td>...</td>\n",
       "      <td>NaN</td>\n",
       "      <td>1</td>\n",
       "      <td>1022014</td>\n",
       "      <td>28/08/2025</td>\n",
       "      <td>NaN</td>\n",
       "      <td>NaN</td>\n",
       "      <td>NaN</td>\n",
       "      <td>27248614590</td>\n",
       "      <td>NaN</td>\n",
       "      <td>Tesorería General de la Santa Cruz</td>\n",
       "    </tr>\n",
       "    <tr>\n",
       "      <th>3</th>\n",
       "      <td>3070253399220250000006364</td>\n",
       "      <td>'5a14</td>\n",
       "      <td>EMITIDO</td>\n",
       "      <td>30702533992</td>\n",
       "      <td>20202115307</td>\n",
       "      <td>2004</td>\n",
       "      <td>353</td>\n",
       "      <td>755</td>\n",
       "      <td>28/08/2025</td>\n",
       "      <td>27/08/2025</td>\n",
       "      <td>...</td>\n",
       "      <td>NaN</td>\n",
       "      <td>1</td>\n",
       "      <td>1022014</td>\n",
       "      <td>28/08/2025</td>\n",
       "      <td>NaN</td>\n",
       "      <td>NaN</td>\n",
       "      <td>NaN</td>\n",
       "      <td>27248614590</td>\n",
       "      <td>NaN</td>\n",
       "      <td>Tesorería General de la Santa Cruz</td>\n",
       "    </tr>\n",
       "    <tr>\n",
       "      <th>4</th>\n",
       "      <td>3070253399220250000006363</td>\n",
       "      <td>'5a13</td>\n",
       "      <td>EMITIDO</td>\n",
       "      <td>30702533992</td>\n",
       "      <td>30716740885</td>\n",
       "      <td>2004</td>\n",
       "      <td>353</td>\n",
       "      <td>755</td>\n",
       "      <td>28/08/2025</td>\n",
       "      <td>27/08/2025</td>\n",
       "      <td>...</td>\n",
       "      <td>NaN</td>\n",
       "      <td>1</td>\n",
       "      <td>1022014</td>\n",
       "      <td>28/08/2025</td>\n",
       "      <td>NaN</td>\n",
       "      <td>NaN</td>\n",
       "      <td>NaN</td>\n",
       "      <td>27248614590</td>\n",
       "      <td>NaN</td>\n",
       "      <td>Tesorería General de la Santa Cruz</td>\n",
       "    </tr>\n",
       "  </tbody>\n",
       "</table>\n",
       "<p>5 rows × 26 columns</p>\n",
       "</div>"
      ],
      "text/plain": [
       "             NRO CERTIFICADO COD SEG   ESTADO       AGENTE  \\\n",
       "0  3070253399220250000006355   '5a0b  EMITIDO  30702533992   \n",
       "1  3070253399220250000006366   '5a16  EMITIDO  30702533992   \n",
       "2  3070253399220250000006365   '5a15  EMITIDO  30702533992   \n",
       "3  3070253399220250000006364   '5a14  EMITIDO  30702533992   \n",
       "4  3070253399220250000006363   '5a13  EMITIDO  30702533992   \n",
       "\n",
       "   RETENIDO/ ORDENANTE  FORM  IMPUESTO  RÉGIMEN FECHA EMISIÓN FECHA RET/PER  \\\n",
       "0          30717088243  2004       353      755    28/08/2025    27/08/2025   \n",
       "1          27257794402  2004       353      755    28/08/2025    27/08/2025   \n",
       "2          30718030400  2004       353      755    28/08/2025    27/08/2025   \n",
       "3          20202115307  2004       353      755    28/08/2025    27/08/2025   \n",
       "4          30716740885  2004       353      755    28/08/2025    27/08/2025   \n",
       "\n",
       "   ...  IMPORTE BASE CÁLCULO CÓDIGO OPERACIÓN     LOTE FECHA MODIFICACIÓN  \\\n",
       "0  ...                   NaN                1  1022014         28/08/2025   \n",
       "1  ...                   NaN                1  1022014         28/08/2025   \n",
       "2  ...                   NaN                1  1022014         28/08/2025   \n",
       "3  ...                   NaN                1  1022014         28/08/2025   \n",
       "4  ...                   NaN                1  1022014         28/08/2025   \n",
       "\n",
       "   REMPLAZA A REMPLAZADO POR  NRO. CERTIFICADO ORIGINAL      USUARIO  \\\n",
       "0         NaN            NaN                        NaN  27248614590   \n",
       "1         NaN            NaN                        NaN  27248614590   \n",
       "2         NaN            NaN                        NaN  27248614590   \n",
       "3         NaN            NaN                        NaN  27248614590   \n",
       "4         NaN            NaN                        NaN  27248614590   \n",
       "\n",
       "   CÓDIGO DE TRAZABILIDAD                         Nombre Ente  \n",
       "0                     NaN  Tesorería General de la Santa Cruz  \n",
       "1                     NaN  Tesorería General de la Santa Cruz  \n",
       "2                     NaN  Tesorería General de la Santa Cruz  \n",
       "3                     NaN  Tesorería General de la Santa Cruz  \n",
       "4                     NaN  Tesorería General de la Santa Cruz  \n",
       "\n",
       "[5 rows x 26 columns]"
      ]
     },
     "execution_count": 9,
     "metadata": {},
     "output_type": "execute_result"
    }
   ],
   "source": [
    "df_certificados.head(5)"
   ]
  },
  {
   "cell_type": "code",
   "execution_count": 10,
   "id": "c031a4b8",
   "metadata": {},
   "outputs": [
    {
     "data": {
      "application/vnd.microsoft.datawrangler.viewer.v0+json": {
       "columns": [
        {
         "name": "index",
         "rawType": "int64",
         "type": "integer"
        },
        {
         "name": "NRO CERTIFICADO",
         "rawType": "object",
         "type": "string"
        },
        {
         "name": "COD SEG",
         "rawType": "object",
         "type": "string"
        },
        {
         "name": "ESTADO",
         "rawType": "object",
         "type": "string"
        },
        {
         "name": "AGENTE",
         "rawType": "int64",
         "type": "integer"
        },
        {
         "name": "Nombre Ente",
         "rawType": "object",
         "type": "string"
        },
        {
         "name": "RETENIDO/ ORDENANTE",
         "rawType": "int64",
         "type": "integer"
        },
        {
         "name": "FORM",
         "rawType": "int64",
         "type": "integer"
        },
        {
         "name": "IMPUESTO",
         "rawType": "int64",
         "type": "integer"
        },
        {
         "name": "RÉGIMEN",
         "rawType": "int64",
         "type": "integer"
        },
        {
         "name": "FECHA EMISIÓN",
         "rawType": "object",
         "type": "string"
        },
        {
         "name": "FECHA RET/PER",
         "rawType": "object",
         "type": "string"
        },
        {
         "name": "PERÍODO",
         "rawType": "int64",
         "type": "integer"
        },
        {
         "name": "TIPO COMP",
         "rawType": "object",
         "type": "string"
        },
        {
         "name": "IMPORTE RET/PER",
         "rawType": "object",
         "type": "string"
        },
        {
         "name": "IMPORTE COMPROBANTE",
         "rawType": "object",
         "type": "string"
        },
        {
         "name": "NÚMERO COMPROBANTE",
         "rawType": "int64",
         "type": "integer"
        },
        {
         "name": "FECHA COMPROBANTE",
         "rawType": "object",
         "type": "string"
        },
        {
         "name": "IMPORTE BASE CÁLCULO",
         "rawType": "float64",
         "type": "float"
        },
        {
         "name": "CÓDIGO OPERACIÓN",
         "rawType": "int64",
         "type": "integer"
        },
        {
         "name": "LOTE",
         "rawType": "int64",
         "type": "integer"
        },
        {
         "name": "FECHA MODIFICACIÓN",
         "rawType": "object",
         "type": "string"
        },
        {
         "name": "REMPLAZA A",
         "rawType": "float64",
         "type": "float"
        },
        {
         "name": "REMPLAZADO POR",
         "rawType": "float64",
         "type": "float"
        },
        {
         "name": "NRO. CERTIFICADO ORIGINAL",
         "rawType": "float64",
         "type": "float"
        },
        {
         "name": "USUARIO",
         "rawType": "int64",
         "type": "integer"
        },
        {
         "name": "CÓDIGO DE TRAZABILIDAD",
         "rawType": "float64",
         "type": "float"
        }
       ],
       "ref": "fd8d850a-a545-4d04-bbf4-26da4ec87afd",
       "rows": [
        [
         "0",
         "3070253399220250000006355",
         "'5a0b",
         "EMITIDO",
         "30702533992",
         "Tesorería General de la Santa Cruz",
         "30717088243",
         "2004",
         "353",
         "755",
         "28/08/2025",
         "27/08/2025",
         "202508",
         "OP",
         "7.582,01",
         "758.201,38",
         "367",
         "27/08/2025",
         null,
         "1",
         "1022014",
         "28/08/2025",
         null,
         null,
         null,
         "27248614590",
         null
        ],
        [
         "1",
         "3070253399220250000006366",
         "'5a16",
         "EMITIDO",
         "30702533992",
         "Tesorería General de la Santa Cruz",
         "27257794402",
         "2004",
         "353",
         "755",
         "28/08/2025",
         "27/08/2025",
         "202508",
         "OP",
         "5.773,80",
         "577.380,00",
         "340",
         "27/08/2025",
         null,
         "1",
         "1022014",
         "28/08/2025",
         null,
         null,
         null,
         "27248614590",
         null
        ],
        [
         "2",
         "3070253399220250000006365",
         "'5a15",
         "EMITIDO",
         "30702533992",
         "Tesorería General de la Santa Cruz",
         "30718030400",
         "2004",
         "353",
         "755",
         "28/08/2025",
         "27/08/2025",
         "202508",
         "OP",
         "2.697,50",
         "269.750,00",
         "343",
         "27/08/2025",
         null,
         "1",
         "1022014",
         "28/08/2025",
         null,
         null,
         null,
         "27248614590",
         null
        ],
        [
         "3",
         "3070253399220250000006364",
         "'5a14",
         "EMITIDO",
         "30702533992",
         "Tesorería General de la Santa Cruz",
         "20202115307",
         "2004",
         "353",
         "755",
         "28/08/2025",
         "27/08/2025",
         "202508",
         "OP",
         "20.321,00",
         "2.032.100,00",
         "346",
         "27/08/2025",
         null,
         "1",
         "1022014",
         "28/08/2025",
         null,
         null,
         null,
         "27248614590",
         null
        ],
        [
         "4",
         "3070253399220250000006363",
         "'5a13",
         "EMITIDO",
         "30702533992",
         "Tesorería General de la Santa Cruz",
         "30716740885",
         "2004",
         "353",
         "755",
         "28/08/2025",
         "27/08/2025",
         "202508",
         "OP",
         "1.315,03",
         "131.503,44",
         "349",
         "27/08/2025",
         null,
         "1",
         "1022014",
         "28/08/2025",
         null,
         null,
         null,
         "27248614590",
         null
        ]
       ],
       "shape": {
        "columns": 26,
        "rows": 5
       }
      },
      "text/html": [
       "<div>\n",
       "<style scoped>\n",
       "    .dataframe tbody tr th:only-of-type {\n",
       "        vertical-align: middle;\n",
       "    }\n",
       "\n",
       "    .dataframe tbody tr th {\n",
       "        vertical-align: top;\n",
       "    }\n",
       "\n",
       "    .dataframe thead th {\n",
       "        text-align: right;\n",
       "    }\n",
       "</style>\n",
       "<table border=\"1\" class=\"dataframe\">\n",
       "  <thead>\n",
       "    <tr style=\"text-align: right;\">\n",
       "      <th></th>\n",
       "      <th>NRO CERTIFICADO</th>\n",
       "      <th>COD SEG</th>\n",
       "      <th>ESTADO</th>\n",
       "      <th>AGENTE</th>\n",
       "      <th>Nombre Ente</th>\n",
       "      <th>RETENIDO/ ORDENANTE</th>\n",
       "      <th>FORM</th>\n",
       "      <th>IMPUESTO</th>\n",
       "      <th>RÉGIMEN</th>\n",
       "      <th>FECHA EMISIÓN</th>\n",
       "      <th>...</th>\n",
       "      <th>FECHA COMPROBANTE</th>\n",
       "      <th>IMPORTE BASE CÁLCULO</th>\n",
       "      <th>CÓDIGO OPERACIÓN</th>\n",
       "      <th>LOTE</th>\n",
       "      <th>FECHA MODIFICACIÓN</th>\n",
       "      <th>REMPLAZA A</th>\n",
       "      <th>REMPLAZADO POR</th>\n",
       "      <th>NRO. CERTIFICADO ORIGINAL</th>\n",
       "      <th>USUARIO</th>\n",
       "      <th>CÓDIGO DE TRAZABILIDAD</th>\n",
       "    </tr>\n",
       "  </thead>\n",
       "  <tbody>\n",
       "    <tr>\n",
       "      <th>0</th>\n",
       "      <td>3070253399220250000006355</td>\n",
       "      <td>'5a0b</td>\n",
       "      <td>EMITIDO</td>\n",
       "      <td>30702533992</td>\n",
       "      <td>Tesorería General de la Santa Cruz</td>\n",
       "      <td>30717088243</td>\n",
       "      <td>2004</td>\n",
       "      <td>353</td>\n",
       "      <td>755</td>\n",
       "      <td>28/08/2025</td>\n",
       "      <td>...</td>\n",
       "      <td>27/08/2025</td>\n",
       "      <td>NaN</td>\n",
       "      <td>1</td>\n",
       "      <td>1022014</td>\n",
       "      <td>28/08/2025</td>\n",
       "      <td>NaN</td>\n",
       "      <td>NaN</td>\n",
       "      <td>NaN</td>\n",
       "      <td>27248614590</td>\n",
       "      <td>NaN</td>\n",
       "    </tr>\n",
       "    <tr>\n",
       "      <th>1</th>\n",
       "      <td>3070253399220250000006366</td>\n",
       "      <td>'5a16</td>\n",
       "      <td>EMITIDO</td>\n",
       "      <td>30702533992</td>\n",
       "      <td>Tesorería General de la Santa Cruz</td>\n",
       "      <td>27257794402</td>\n",
       "      <td>2004</td>\n",
       "      <td>353</td>\n",
       "      <td>755</td>\n",
       "      <td>28/08/2025</td>\n",
       "      <td>...</td>\n",
       "      <td>27/08/2025</td>\n",
       "      <td>NaN</td>\n",
       "      <td>1</td>\n",
       "      <td>1022014</td>\n",
       "      <td>28/08/2025</td>\n",
       "      <td>NaN</td>\n",
       "      <td>NaN</td>\n",
       "      <td>NaN</td>\n",
       "      <td>27248614590</td>\n",
       "      <td>NaN</td>\n",
       "    </tr>\n",
       "    <tr>\n",
       "      <th>2</th>\n",
       "      <td>3070253399220250000006365</td>\n",
       "      <td>'5a15</td>\n",
       "      <td>EMITIDO</td>\n",
       "      <td>30702533992</td>\n",
       "      <td>Tesorería General de la Santa Cruz</td>\n",
       "      <td>30718030400</td>\n",
       "      <td>2004</td>\n",
       "      <td>353</td>\n",
       "      <td>755</td>\n",
       "      <td>28/08/2025</td>\n",
       "      <td>...</td>\n",
       "      <td>27/08/2025</td>\n",
       "      <td>NaN</td>\n",
       "      <td>1</td>\n",
       "      <td>1022014</td>\n",
       "      <td>28/08/2025</td>\n",
       "      <td>NaN</td>\n",
       "      <td>NaN</td>\n",
       "      <td>NaN</td>\n",
       "      <td>27248614590</td>\n",
       "      <td>NaN</td>\n",
       "    </tr>\n",
       "    <tr>\n",
       "      <th>3</th>\n",
       "      <td>3070253399220250000006364</td>\n",
       "      <td>'5a14</td>\n",
       "      <td>EMITIDO</td>\n",
       "      <td>30702533992</td>\n",
       "      <td>Tesorería General de la Santa Cruz</td>\n",
       "      <td>20202115307</td>\n",
       "      <td>2004</td>\n",
       "      <td>353</td>\n",
       "      <td>755</td>\n",
       "      <td>28/08/2025</td>\n",
       "      <td>...</td>\n",
       "      <td>27/08/2025</td>\n",
       "      <td>NaN</td>\n",
       "      <td>1</td>\n",
       "      <td>1022014</td>\n",
       "      <td>28/08/2025</td>\n",
       "      <td>NaN</td>\n",
       "      <td>NaN</td>\n",
       "      <td>NaN</td>\n",
       "      <td>27248614590</td>\n",
       "      <td>NaN</td>\n",
       "    </tr>\n",
       "    <tr>\n",
       "      <th>4</th>\n",
       "      <td>3070253399220250000006363</td>\n",
       "      <td>'5a13</td>\n",
       "      <td>EMITIDO</td>\n",
       "      <td>30702533992</td>\n",
       "      <td>Tesorería General de la Santa Cruz</td>\n",
       "      <td>30716740885</td>\n",
       "      <td>2004</td>\n",
       "      <td>353</td>\n",
       "      <td>755</td>\n",
       "      <td>28/08/2025</td>\n",
       "      <td>...</td>\n",
       "      <td>27/08/2025</td>\n",
       "      <td>NaN</td>\n",
       "      <td>1</td>\n",
       "      <td>1022014</td>\n",
       "      <td>28/08/2025</td>\n",
       "      <td>NaN</td>\n",
       "      <td>NaN</td>\n",
       "      <td>NaN</td>\n",
       "      <td>27248614590</td>\n",
       "      <td>NaN</td>\n",
       "    </tr>\n",
       "  </tbody>\n",
       "</table>\n",
       "<p>5 rows × 26 columns</p>\n",
       "</div>"
      ],
      "text/plain": [
       "             NRO CERTIFICADO COD SEG   ESTADO       AGENTE  \\\n",
       "0  3070253399220250000006355   '5a0b  EMITIDO  30702533992   \n",
       "1  3070253399220250000006366   '5a16  EMITIDO  30702533992   \n",
       "2  3070253399220250000006365   '5a15  EMITIDO  30702533992   \n",
       "3  3070253399220250000006364   '5a14  EMITIDO  30702533992   \n",
       "4  3070253399220250000006363   '5a13  EMITIDO  30702533992   \n",
       "\n",
       "                          Nombre Ente  RETENIDO/ ORDENANTE  FORM  IMPUESTO  \\\n",
       "0  Tesorería General de la Santa Cruz          30717088243  2004       353   \n",
       "1  Tesorería General de la Santa Cruz          27257794402  2004       353   \n",
       "2  Tesorería General de la Santa Cruz          30718030400  2004       353   \n",
       "3  Tesorería General de la Santa Cruz          20202115307  2004       353   \n",
       "4  Tesorería General de la Santa Cruz          30716740885  2004       353   \n",
       "\n",
       "   RÉGIMEN FECHA EMISIÓN  ... FECHA COMPROBANTE  IMPORTE BASE CÁLCULO  \\\n",
       "0      755    28/08/2025  ...        27/08/2025                   NaN   \n",
       "1      755    28/08/2025  ...        27/08/2025                   NaN   \n",
       "2      755    28/08/2025  ...        27/08/2025                   NaN   \n",
       "3      755    28/08/2025  ...        27/08/2025                   NaN   \n",
       "4      755    28/08/2025  ...        27/08/2025                   NaN   \n",
       "\n",
       "  CÓDIGO OPERACIÓN     LOTE FECHA MODIFICACIÓN  REMPLAZA A REMPLAZADO POR  \\\n",
       "0                1  1022014         28/08/2025         NaN            NaN   \n",
       "1                1  1022014         28/08/2025         NaN            NaN   \n",
       "2                1  1022014         28/08/2025         NaN            NaN   \n",
       "3                1  1022014         28/08/2025         NaN            NaN   \n",
       "4                1  1022014         28/08/2025         NaN            NaN   \n",
       "\n",
       "   NRO. CERTIFICADO ORIGINAL      USUARIO  CÓDIGO DE TRAZABILIDAD  \n",
       "0                        NaN  27248614590                     NaN  \n",
       "1                        NaN  27248614590                     NaN  \n",
       "2                        NaN  27248614590                     NaN  \n",
       "3                        NaN  27248614590                     NaN  \n",
       "4                        NaN  27248614590                     NaN  \n",
       "\n",
       "[5 rows x 26 columns]"
      ]
     },
     "execution_count": 10,
     "metadata": {},
     "output_type": "execute_result"
    }
   ],
   "source": [
    "# Reordenar columnas para que 'Nombre AGENTE' esté después de 'AGENTE'\n",
    "cols = list(df_certificados.columns)\n",
    "agente_idx = cols.index('AGENTE')\n",
    "# Quitar 'Nombre AGENTE' de la lista y volver a insertarla después de 'AGENTE'\n",
    "cols.remove('Nombre Ente')\n",
    "cols.insert(agente_idx + 1, 'Nombre Ente')\n",
    "df_certificados = df_certificados[cols]\n",
    "df_certificados.head(5)"
   ]
  },
  {
   "cell_type": "code",
   "execution_count": 11,
   "id": "4c6a378d",
   "metadata": {},
   "outputs": [
    {
     "data": {
      "application/vnd.microsoft.datawrangler.viewer.v0+json": {
       "columns": [
        {
         "name": "index",
         "rawType": "int64",
         "type": "integer"
        },
        {
         "name": "NRO CERTIFICADO",
         "rawType": "object",
         "type": "string"
        },
        {
         "name": "COD SEG",
         "rawType": "object",
         "type": "string"
        },
        {
         "name": "ESTADO",
         "rawType": "object",
         "type": "string"
        },
        {
         "name": "AGENTE",
         "rawType": "int64",
         "type": "integer"
        },
        {
         "name": "Nombre Ente",
         "rawType": "object",
         "type": "string"
        },
        {
         "name": "RETENIDO/ ORDENANTE",
         "rawType": "int64",
         "type": "integer"
        },
        {
         "name": "FORM",
         "rawType": "int64",
         "type": "integer"
        },
        {
         "name": "IMPUESTO",
         "rawType": "int64",
         "type": "integer"
        },
        {
         "name": "RÉGIMEN",
         "rawType": "int64",
         "type": "integer"
        },
        {
         "name": "DESCRIPCION REGIMEN",
         "rawType": "object",
         "type": "string"
        },
        {
         "name": "FECHA EMISIÓN",
         "rawType": "object",
         "type": "string"
        },
        {
         "name": "FECHA RET/PER",
         "rawType": "object",
         "type": "string"
        },
        {
         "name": "PERÍODO",
         "rawType": "int64",
         "type": "integer"
        },
        {
         "name": "TIPO COMP",
         "rawType": "object",
         "type": "string"
        },
        {
         "name": "IMPORTE RET/PER",
         "rawType": "object",
         "type": "string"
        },
        {
         "name": "IMPORTE COMPROBANTE",
         "rawType": "object",
         "type": "string"
        },
        {
         "name": "NÚMERO COMPROBANTE",
         "rawType": "int64",
         "type": "integer"
        },
        {
         "name": "FECHA COMPROBANTE",
         "rawType": "object",
         "type": "string"
        },
        {
         "name": "IMPORTE BASE CÁLCULO",
         "rawType": "float64",
         "type": "float"
        },
        {
         "name": "CÓDIGO OPERACIÓN",
         "rawType": "int64",
         "type": "integer"
        },
        {
         "name": "LOTE",
         "rawType": "int64",
         "type": "integer"
        },
        {
         "name": "FECHA MODIFICACIÓN",
         "rawType": "object",
         "type": "string"
        },
        {
         "name": "REMPLAZA A",
         "rawType": "float64",
         "type": "float"
        },
        {
         "name": "REMPLAZADO POR",
         "rawType": "float64",
         "type": "float"
        },
        {
         "name": "NRO. CERTIFICADO ORIGINAL",
         "rawType": "float64",
         "type": "float"
        },
        {
         "name": "USUARIO",
         "rawType": "int64",
         "type": "integer"
        },
        {
         "name": "CÓDIGO DE TRAZABILIDAD",
         "rawType": "float64",
         "type": "float"
        }
       ],
       "ref": "4acd6716-87cf-4d32-a3b5-9079c27ace6f",
       "rows": [
        [
         "0",
         "3070253399220250000006355",
         "'5a0b",
         "EMITIDO",
         "30702533992",
         "Tesorería General de la Santa Cruz",
         "30717088243",
         "2004",
         "353",
         "755",
         "",
         "28/08/2025",
         "27/08/2025",
         "202508",
         "OP",
         "7.582,01",
         "758.201,38",
         "367",
         "27/08/2025",
         null,
         "1",
         "1022014",
         "28/08/2025",
         null,
         null,
         null,
         "27248614590",
         null
        ],
        [
         "1",
         "3070253399220250000006366",
         "'5a16",
         "EMITIDO",
         "30702533992",
         "Tesorería General de la Santa Cruz",
         "27257794402",
         "2004",
         "353",
         "755",
         "",
         "28/08/2025",
         "27/08/2025",
         "202508",
         "OP",
         "5.773,80",
         "577.380,00",
         "340",
         "27/08/2025",
         null,
         "1",
         "1022014",
         "28/08/2025",
         null,
         null,
         null,
         "27248614590",
         null
        ],
        [
         "2",
         "3070253399220250000006365",
         "'5a15",
         "EMITIDO",
         "30702533992",
         "Tesorería General de la Santa Cruz",
         "30718030400",
         "2004",
         "353",
         "755",
         "",
         "28/08/2025",
         "27/08/2025",
         "202508",
         "OP",
         "2.697,50",
         "269.750,00",
         "343",
         "27/08/2025",
         null,
         "1",
         "1022014",
         "28/08/2025",
         null,
         null,
         null,
         "27248614590",
         null
        ],
        [
         "3",
         "3070253399220250000006364",
         "'5a14",
         "EMITIDO",
         "30702533992",
         "Tesorería General de la Santa Cruz",
         "20202115307",
         "2004",
         "353",
         "755",
         "",
         "28/08/2025",
         "27/08/2025",
         "202508",
         "OP",
         "20.321,00",
         "2.032.100,00",
         "346",
         "27/08/2025",
         null,
         "1",
         "1022014",
         "28/08/2025",
         null,
         null,
         null,
         "27248614590",
         null
        ],
        [
         "4",
         "3070253399220250000006363",
         "'5a13",
         "EMITIDO",
         "30702533992",
         "Tesorería General de la Santa Cruz",
         "30716740885",
         "2004",
         "353",
         "755",
         "",
         "28/08/2025",
         "27/08/2025",
         "202508",
         "OP",
         "1.315,03",
         "131.503,44",
         "349",
         "27/08/2025",
         null,
         "1",
         "1022014",
         "28/08/2025",
         null,
         null,
         null,
         "27248614590",
         null
        ]
       ],
       "shape": {
        "columns": 27,
        "rows": 5
       }
      },
      "text/html": [
       "<div>\n",
       "<style scoped>\n",
       "    .dataframe tbody tr th:only-of-type {\n",
       "        vertical-align: middle;\n",
       "    }\n",
       "\n",
       "    .dataframe tbody tr th {\n",
       "        vertical-align: top;\n",
       "    }\n",
       "\n",
       "    .dataframe thead th {\n",
       "        text-align: right;\n",
       "    }\n",
       "</style>\n",
       "<table border=\"1\" class=\"dataframe\">\n",
       "  <thead>\n",
       "    <tr style=\"text-align: right;\">\n",
       "      <th></th>\n",
       "      <th>NRO CERTIFICADO</th>\n",
       "      <th>COD SEG</th>\n",
       "      <th>ESTADO</th>\n",
       "      <th>AGENTE</th>\n",
       "      <th>Nombre Ente</th>\n",
       "      <th>RETENIDO/ ORDENANTE</th>\n",
       "      <th>FORM</th>\n",
       "      <th>IMPUESTO</th>\n",
       "      <th>RÉGIMEN</th>\n",
       "      <th>DESCRIPCION REGIMEN</th>\n",
       "      <th>...</th>\n",
       "      <th>FECHA COMPROBANTE</th>\n",
       "      <th>IMPORTE BASE CÁLCULO</th>\n",
       "      <th>CÓDIGO OPERACIÓN</th>\n",
       "      <th>LOTE</th>\n",
       "      <th>FECHA MODIFICACIÓN</th>\n",
       "      <th>REMPLAZA A</th>\n",
       "      <th>REMPLAZADO POR</th>\n",
       "      <th>NRO. CERTIFICADO ORIGINAL</th>\n",
       "      <th>USUARIO</th>\n",
       "      <th>CÓDIGO DE TRAZABILIDAD</th>\n",
       "    </tr>\n",
       "  </thead>\n",
       "  <tbody>\n",
       "    <tr>\n",
       "      <th>0</th>\n",
       "      <td>3070253399220250000006355</td>\n",
       "      <td>'5a0b</td>\n",
       "      <td>EMITIDO</td>\n",
       "      <td>30702533992</td>\n",
       "      <td>Tesorería General de la Santa Cruz</td>\n",
       "      <td>30717088243</td>\n",
       "      <td>2004</td>\n",
       "      <td>353</td>\n",
       "      <td>755</td>\n",
       "      <td></td>\n",
       "      <td>...</td>\n",
       "      <td>27/08/2025</td>\n",
       "      <td>NaN</td>\n",
       "      <td>1</td>\n",
       "      <td>1022014</td>\n",
       "      <td>28/08/2025</td>\n",
       "      <td>NaN</td>\n",
       "      <td>NaN</td>\n",
       "      <td>NaN</td>\n",
       "      <td>27248614590</td>\n",
       "      <td>NaN</td>\n",
       "    </tr>\n",
       "    <tr>\n",
       "      <th>1</th>\n",
       "      <td>3070253399220250000006366</td>\n",
       "      <td>'5a16</td>\n",
       "      <td>EMITIDO</td>\n",
       "      <td>30702533992</td>\n",
       "      <td>Tesorería General de la Santa Cruz</td>\n",
       "      <td>27257794402</td>\n",
       "      <td>2004</td>\n",
       "      <td>353</td>\n",
       "      <td>755</td>\n",
       "      <td></td>\n",
       "      <td>...</td>\n",
       "      <td>27/08/2025</td>\n",
       "      <td>NaN</td>\n",
       "      <td>1</td>\n",
       "      <td>1022014</td>\n",
       "      <td>28/08/2025</td>\n",
       "      <td>NaN</td>\n",
       "      <td>NaN</td>\n",
       "      <td>NaN</td>\n",
       "      <td>27248614590</td>\n",
       "      <td>NaN</td>\n",
       "    </tr>\n",
       "    <tr>\n",
       "      <th>2</th>\n",
       "      <td>3070253399220250000006365</td>\n",
       "      <td>'5a15</td>\n",
       "      <td>EMITIDO</td>\n",
       "      <td>30702533992</td>\n",
       "      <td>Tesorería General de la Santa Cruz</td>\n",
       "      <td>30718030400</td>\n",
       "      <td>2004</td>\n",
       "      <td>353</td>\n",
       "      <td>755</td>\n",
       "      <td></td>\n",
       "      <td>...</td>\n",
       "      <td>27/08/2025</td>\n",
       "      <td>NaN</td>\n",
       "      <td>1</td>\n",
       "      <td>1022014</td>\n",
       "      <td>28/08/2025</td>\n",
       "      <td>NaN</td>\n",
       "      <td>NaN</td>\n",
       "      <td>NaN</td>\n",
       "      <td>27248614590</td>\n",
       "      <td>NaN</td>\n",
       "    </tr>\n",
       "    <tr>\n",
       "      <th>3</th>\n",
       "      <td>3070253399220250000006364</td>\n",
       "      <td>'5a14</td>\n",
       "      <td>EMITIDO</td>\n",
       "      <td>30702533992</td>\n",
       "      <td>Tesorería General de la Santa Cruz</td>\n",
       "      <td>20202115307</td>\n",
       "      <td>2004</td>\n",
       "      <td>353</td>\n",
       "      <td>755</td>\n",
       "      <td></td>\n",
       "      <td>...</td>\n",
       "      <td>27/08/2025</td>\n",
       "      <td>NaN</td>\n",
       "      <td>1</td>\n",
       "      <td>1022014</td>\n",
       "      <td>28/08/2025</td>\n",
       "      <td>NaN</td>\n",
       "      <td>NaN</td>\n",
       "      <td>NaN</td>\n",
       "      <td>27248614590</td>\n",
       "      <td>NaN</td>\n",
       "    </tr>\n",
       "    <tr>\n",
       "      <th>4</th>\n",
       "      <td>3070253399220250000006363</td>\n",
       "      <td>'5a13</td>\n",
       "      <td>EMITIDO</td>\n",
       "      <td>30702533992</td>\n",
       "      <td>Tesorería General de la Santa Cruz</td>\n",
       "      <td>30716740885</td>\n",
       "      <td>2004</td>\n",
       "      <td>353</td>\n",
       "      <td>755</td>\n",
       "      <td></td>\n",
       "      <td>...</td>\n",
       "      <td>27/08/2025</td>\n",
       "      <td>NaN</td>\n",
       "      <td>1</td>\n",
       "      <td>1022014</td>\n",
       "      <td>28/08/2025</td>\n",
       "      <td>NaN</td>\n",
       "      <td>NaN</td>\n",
       "      <td>NaN</td>\n",
       "      <td>27248614590</td>\n",
       "      <td>NaN</td>\n",
       "    </tr>\n",
       "  </tbody>\n",
       "</table>\n",
       "<p>5 rows × 27 columns</p>\n",
       "</div>"
      ],
      "text/plain": [
       "             NRO CERTIFICADO COD SEG   ESTADO       AGENTE  \\\n",
       "0  3070253399220250000006355   '5a0b  EMITIDO  30702533992   \n",
       "1  3070253399220250000006366   '5a16  EMITIDO  30702533992   \n",
       "2  3070253399220250000006365   '5a15  EMITIDO  30702533992   \n",
       "3  3070253399220250000006364   '5a14  EMITIDO  30702533992   \n",
       "4  3070253399220250000006363   '5a13  EMITIDO  30702533992   \n",
       "\n",
       "                          Nombre Ente  RETENIDO/ ORDENANTE  FORM  IMPUESTO  \\\n",
       "0  Tesorería General de la Santa Cruz          30717088243  2004       353   \n",
       "1  Tesorería General de la Santa Cruz          27257794402  2004       353   \n",
       "2  Tesorería General de la Santa Cruz          30718030400  2004       353   \n",
       "3  Tesorería General de la Santa Cruz          20202115307  2004       353   \n",
       "4  Tesorería General de la Santa Cruz          30716740885  2004       353   \n",
       "\n",
       "   RÉGIMEN DESCRIPCION REGIMEN  ... FECHA COMPROBANTE IMPORTE BASE CÁLCULO  \\\n",
       "0      755                      ...        27/08/2025                  NaN   \n",
       "1      755                      ...        27/08/2025                  NaN   \n",
       "2      755                      ...        27/08/2025                  NaN   \n",
       "3      755                      ...        27/08/2025                  NaN   \n",
       "4      755                      ...        27/08/2025                  NaN   \n",
       "\n",
       "   CÓDIGO OPERACIÓN     LOTE FECHA MODIFICACIÓN REMPLAZA A  REMPLAZADO POR  \\\n",
       "0                 1  1022014         28/08/2025        NaN             NaN   \n",
       "1                 1  1022014         28/08/2025        NaN             NaN   \n",
       "2                 1  1022014         28/08/2025        NaN             NaN   \n",
       "3                 1  1022014         28/08/2025        NaN             NaN   \n",
       "4                 1  1022014         28/08/2025        NaN             NaN   \n",
       "\n",
       "  NRO. CERTIFICADO ORIGINAL      USUARIO  CÓDIGO DE TRAZABILIDAD  \n",
       "0                       NaN  27248614590                     NaN  \n",
       "1                       NaN  27248614590                     NaN  \n",
       "2                       NaN  27248614590                     NaN  \n",
       "3                       NaN  27248614590                     NaN  \n",
       "4                       NaN  27248614590                     NaN  \n",
       "\n",
       "[5 rows x 27 columns]"
      ]
     },
     "execution_count": 11,
     "metadata": {},
     "output_type": "execute_result"
    }
   ],
   "source": [
    "# Crear la nueva columna (puedes asignar valores según tu lógica, aquí se deja vacía como ejemplo)\n",
    "df_certificados['DESCRIPCION REGIMEN'] = ''\n",
    "\n",
    "# Reordenar para que 'DESCRIPCION REGIMEN' quede después de 'RÉGIMEN'\n",
    "cols = list(df_certificados.columns)\n",
    "regimen_idx = cols.index('RÉGIMEN')\n",
    "cols.remove('DESCRIPCION REGIMEN')\n",
    "cols.insert(regimen_idx + 1, 'DESCRIPCION REGIMEN')\n",
    "df_certificados = df_certificados[cols]\n",
    "df_certificados.head(5)"
   ]
  },
  {
   "cell_type": "code",
   "execution_count": 12,
   "id": "c173e02c",
   "metadata": {},
   "outputs": [
    {
     "data": {
      "application/vnd.microsoft.datawrangler.viewer.v0+json": {
       "columns": [
        {
         "name": "index",
         "rawType": "int64",
         "type": "integer"
        },
        {
         "name": "NRO CERTIFICADO",
         "rawType": "object",
         "type": "string"
        },
        {
         "name": "COD SEG",
         "rawType": "object",
         "type": "string"
        },
        {
         "name": "ESTADO",
         "rawType": "object",
         "type": "string"
        },
        {
         "name": "AGENTE",
         "rawType": "int64",
         "type": "integer"
        },
        {
         "name": "Nombre Ente",
         "rawType": "object",
         "type": "string"
        },
        {
         "name": "RETENIDO/ ORDENANTE",
         "rawType": "int64",
         "type": "integer"
        },
        {
         "name": "FORM",
         "rawType": "int64",
         "type": "integer"
        },
        {
         "name": "IMPUESTO",
         "rawType": "int64",
         "type": "integer"
        },
        {
         "name": "RÉGIMEN",
         "rawType": "int64",
         "type": "integer"
        },
        {
         "name": "DESCRIPCION REGIMEN",
         "rawType": "object",
         "type": "string"
        },
        {
         "name": "FECHA EMISIÓN",
         "rawType": "object",
         "type": "string"
        },
        {
         "name": "FECHA RET/PER",
         "rawType": "object",
         "type": "string"
        },
        {
         "name": "PERÍODO",
         "rawType": "int64",
         "type": "integer"
        },
        {
         "name": "TIPO COMP",
         "rawType": "object",
         "type": "string"
        },
        {
         "name": "IMPORTE RET/PER",
         "rawType": "object",
         "type": "string"
        },
        {
         "name": "IMPORTE COMPROBANTE",
         "rawType": "object",
         "type": "string"
        },
        {
         "name": "NÚMERO COMPROBANTE",
         "rawType": "int64",
         "type": "integer"
        },
        {
         "name": "FECHA COMPROBANTE",
         "rawType": "object",
         "type": "string"
        },
        {
         "name": "IMPORTE BASE CÁLCULO",
         "rawType": "float64",
         "type": "float"
        },
        {
         "name": "CÓDIGO OPERACIÓN",
         "rawType": "int64",
         "type": "integer"
        },
        {
         "name": "LOTE",
         "rawType": "int64",
         "type": "integer"
        },
        {
         "name": "FECHA MODIFICACIÓN",
         "rawType": "object",
         "type": "string"
        },
        {
         "name": "REMPLAZA A",
         "rawType": "float64",
         "type": "float"
        },
        {
         "name": "REMPLAZADO POR",
         "rawType": "float64",
         "type": "float"
        },
        {
         "name": "NRO. CERTIFICADO ORIGINAL",
         "rawType": "float64",
         "type": "float"
        },
        {
         "name": "USUARIO",
         "rawType": "int64",
         "type": "integer"
        },
        {
         "name": "CÓDIGO DE TRAZABILIDAD",
         "rawType": "float64",
         "type": "float"
        }
       ],
       "ref": "d94e96b7-354c-4da9-b696-7ec45c8ec390",
       "rows": [
        [
         "0",
         "3070253399220250000006355",
         "'5a0b",
         "EMITIDO",
         "30702533992",
         "Tesorería General de la Santa Cruz",
         "30717088243",
         "2004",
         "353",
         "755",
         "RETENCIÓN GENERAL DE CONTRIBUCIONES",
         "28/08/2025",
         "27/08/2025",
         "202508",
         "OP",
         "7.582,01",
         "758.201,38",
         "367",
         "27/08/2025",
         null,
         "1",
         "1022014",
         "28/08/2025",
         null,
         null,
         null,
         "27248614590",
         null
        ],
        [
         "1",
         "3070253399220250000006366",
         "'5a16",
         "EMITIDO",
         "30702533992",
         "Tesorería General de la Santa Cruz",
         "27257794402",
         "2004",
         "353",
         "755",
         "RETENCIÓN GENERAL DE CONTRIBUCIONES",
         "28/08/2025",
         "27/08/2025",
         "202508",
         "OP",
         "5.773,80",
         "577.380,00",
         "340",
         "27/08/2025",
         null,
         "1",
         "1022014",
         "28/08/2025",
         null,
         null,
         null,
         "27248614590",
         null
        ],
        [
         "2",
         "3070253399220250000006365",
         "'5a15",
         "EMITIDO",
         "30702533992",
         "Tesorería General de la Santa Cruz",
         "30718030400",
         "2004",
         "353",
         "755",
         "RETENCIÓN GENERAL DE CONTRIBUCIONES",
         "28/08/2025",
         "27/08/2025",
         "202508",
         "OP",
         "2.697,50",
         "269.750,00",
         "343",
         "27/08/2025",
         null,
         "1",
         "1022014",
         "28/08/2025",
         null,
         null,
         null,
         "27248614590",
         null
        ],
        [
         "3",
         "3070253399220250000006364",
         "'5a14",
         "EMITIDO",
         "30702533992",
         "Tesorería General de la Santa Cruz",
         "20202115307",
         "2004",
         "353",
         "755",
         "RETENCIÓN GENERAL DE CONTRIBUCIONES",
         "28/08/2025",
         "27/08/2025",
         "202508",
         "OP",
         "20.321,00",
         "2.032.100,00",
         "346",
         "27/08/2025",
         null,
         "1",
         "1022014",
         "28/08/2025",
         null,
         null,
         null,
         "27248614590",
         null
        ],
        [
         "4",
         "3070253399220250000006363",
         "'5a13",
         "EMITIDO",
         "30702533992",
         "Tesorería General de la Santa Cruz",
         "30716740885",
         "2004",
         "353",
         "755",
         "RETENCIÓN GENERAL DE CONTRIBUCIONES",
         "28/08/2025",
         "27/08/2025",
         "202508",
         "OP",
         "1.315,03",
         "131.503,44",
         "349",
         "27/08/2025",
         null,
         "1",
         "1022014",
         "28/08/2025",
         null,
         null,
         null,
         "27248614590",
         null
        ]
       ],
       "shape": {
        "columns": 27,
        "rows": 5
       }
      },
      "text/html": [
       "<div>\n",
       "<style scoped>\n",
       "    .dataframe tbody tr th:only-of-type {\n",
       "        vertical-align: middle;\n",
       "    }\n",
       "\n",
       "    .dataframe tbody tr th {\n",
       "        vertical-align: top;\n",
       "    }\n",
       "\n",
       "    .dataframe thead th {\n",
       "        text-align: right;\n",
       "    }\n",
       "</style>\n",
       "<table border=\"1\" class=\"dataframe\">\n",
       "  <thead>\n",
       "    <tr style=\"text-align: right;\">\n",
       "      <th></th>\n",
       "      <th>NRO CERTIFICADO</th>\n",
       "      <th>COD SEG</th>\n",
       "      <th>ESTADO</th>\n",
       "      <th>AGENTE</th>\n",
       "      <th>Nombre Ente</th>\n",
       "      <th>RETENIDO/ ORDENANTE</th>\n",
       "      <th>FORM</th>\n",
       "      <th>IMPUESTO</th>\n",
       "      <th>RÉGIMEN</th>\n",
       "      <th>DESCRIPCION REGIMEN</th>\n",
       "      <th>...</th>\n",
       "      <th>FECHA COMPROBANTE</th>\n",
       "      <th>IMPORTE BASE CÁLCULO</th>\n",
       "      <th>CÓDIGO OPERACIÓN</th>\n",
       "      <th>LOTE</th>\n",
       "      <th>FECHA MODIFICACIÓN</th>\n",
       "      <th>REMPLAZA A</th>\n",
       "      <th>REMPLAZADO POR</th>\n",
       "      <th>NRO. CERTIFICADO ORIGINAL</th>\n",
       "      <th>USUARIO</th>\n",
       "      <th>CÓDIGO DE TRAZABILIDAD</th>\n",
       "    </tr>\n",
       "  </thead>\n",
       "  <tbody>\n",
       "    <tr>\n",
       "      <th>0</th>\n",
       "      <td>3070253399220250000006355</td>\n",
       "      <td>'5a0b</td>\n",
       "      <td>EMITIDO</td>\n",
       "      <td>30702533992</td>\n",
       "      <td>Tesorería General de la Santa Cruz</td>\n",
       "      <td>30717088243</td>\n",
       "      <td>2004</td>\n",
       "      <td>353</td>\n",
       "      <td>755</td>\n",
       "      <td>RETENCIÓN GENERAL DE CONTRIBUCIONES</td>\n",
       "      <td>...</td>\n",
       "      <td>27/08/2025</td>\n",
       "      <td>NaN</td>\n",
       "      <td>1</td>\n",
       "      <td>1022014</td>\n",
       "      <td>28/08/2025</td>\n",
       "      <td>NaN</td>\n",
       "      <td>NaN</td>\n",
       "      <td>NaN</td>\n",
       "      <td>27248614590</td>\n",
       "      <td>NaN</td>\n",
       "    </tr>\n",
       "    <tr>\n",
       "      <th>1</th>\n",
       "      <td>3070253399220250000006366</td>\n",
       "      <td>'5a16</td>\n",
       "      <td>EMITIDO</td>\n",
       "      <td>30702533992</td>\n",
       "      <td>Tesorería General de la Santa Cruz</td>\n",
       "      <td>27257794402</td>\n",
       "      <td>2004</td>\n",
       "      <td>353</td>\n",
       "      <td>755</td>\n",
       "      <td>RETENCIÓN GENERAL DE CONTRIBUCIONES</td>\n",
       "      <td>...</td>\n",
       "      <td>27/08/2025</td>\n",
       "      <td>NaN</td>\n",
       "      <td>1</td>\n",
       "      <td>1022014</td>\n",
       "      <td>28/08/2025</td>\n",
       "      <td>NaN</td>\n",
       "      <td>NaN</td>\n",
       "      <td>NaN</td>\n",
       "      <td>27248614590</td>\n",
       "      <td>NaN</td>\n",
       "    </tr>\n",
       "    <tr>\n",
       "      <th>2</th>\n",
       "      <td>3070253399220250000006365</td>\n",
       "      <td>'5a15</td>\n",
       "      <td>EMITIDO</td>\n",
       "      <td>30702533992</td>\n",
       "      <td>Tesorería General de la Santa Cruz</td>\n",
       "      <td>30718030400</td>\n",
       "      <td>2004</td>\n",
       "      <td>353</td>\n",
       "      <td>755</td>\n",
       "      <td>RETENCIÓN GENERAL DE CONTRIBUCIONES</td>\n",
       "      <td>...</td>\n",
       "      <td>27/08/2025</td>\n",
       "      <td>NaN</td>\n",
       "      <td>1</td>\n",
       "      <td>1022014</td>\n",
       "      <td>28/08/2025</td>\n",
       "      <td>NaN</td>\n",
       "      <td>NaN</td>\n",
       "      <td>NaN</td>\n",
       "      <td>27248614590</td>\n",
       "      <td>NaN</td>\n",
       "    </tr>\n",
       "    <tr>\n",
       "      <th>3</th>\n",
       "      <td>3070253399220250000006364</td>\n",
       "      <td>'5a14</td>\n",
       "      <td>EMITIDO</td>\n",
       "      <td>30702533992</td>\n",
       "      <td>Tesorería General de la Santa Cruz</td>\n",
       "      <td>20202115307</td>\n",
       "      <td>2004</td>\n",
       "      <td>353</td>\n",
       "      <td>755</td>\n",
       "      <td>RETENCIÓN GENERAL DE CONTRIBUCIONES</td>\n",
       "      <td>...</td>\n",
       "      <td>27/08/2025</td>\n",
       "      <td>NaN</td>\n",
       "      <td>1</td>\n",
       "      <td>1022014</td>\n",
       "      <td>28/08/2025</td>\n",
       "      <td>NaN</td>\n",
       "      <td>NaN</td>\n",
       "      <td>NaN</td>\n",
       "      <td>27248614590</td>\n",
       "      <td>NaN</td>\n",
       "    </tr>\n",
       "    <tr>\n",
       "      <th>4</th>\n",
       "      <td>3070253399220250000006363</td>\n",
       "      <td>'5a13</td>\n",
       "      <td>EMITIDO</td>\n",
       "      <td>30702533992</td>\n",
       "      <td>Tesorería General de la Santa Cruz</td>\n",
       "      <td>30716740885</td>\n",
       "      <td>2004</td>\n",
       "      <td>353</td>\n",
       "      <td>755</td>\n",
       "      <td>RETENCIÓN GENERAL DE CONTRIBUCIONES</td>\n",
       "      <td>...</td>\n",
       "      <td>27/08/2025</td>\n",
       "      <td>NaN</td>\n",
       "      <td>1</td>\n",
       "      <td>1022014</td>\n",
       "      <td>28/08/2025</td>\n",
       "      <td>NaN</td>\n",
       "      <td>NaN</td>\n",
       "      <td>NaN</td>\n",
       "      <td>27248614590</td>\n",
       "      <td>NaN</td>\n",
       "    </tr>\n",
       "  </tbody>\n",
       "</table>\n",
       "<p>5 rows × 27 columns</p>\n",
       "</div>"
      ],
      "text/plain": [
       "             NRO CERTIFICADO COD SEG   ESTADO       AGENTE  \\\n",
       "0  3070253399220250000006355   '5a0b  EMITIDO  30702533992   \n",
       "1  3070253399220250000006366   '5a16  EMITIDO  30702533992   \n",
       "2  3070253399220250000006365   '5a15  EMITIDO  30702533992   \n",
       "3  3070253399220250000006364   '5a14  EMITIDO  30702533992   \n",
       "4  3070253399220250000006363   '5a13  EMITIDO  30702533992   \n",
       "\n",
       "                          Nombre Ente  RETENIDO/ ORDENANTE  FORM  IMPUESTO  \\\n",
       "0  Tesorería General de la Santa Cruz          30717088243  2004       353   \n",
       "1  Tesorería General de la Santa Cruz          27257794402  2004       353   \n",
       "2  Tesorería General de la Santa Cruz          30718030400  2004       353   \n",
       "3  Tesorería General de la Santa Cruz          20202115307  2004       353   \n",
       "4  Tesorería General de la Santa Cruz          30716740885  2004       353   \n",
       "\n",
       "   RÉGIMEN                  DESCRIPCION REGIMEN  ... FECHA COMPROBANTE  \\\n",
       "0      755  RETENCIÓN GENERAL DE CONTRIBUCIONES  ...        27/08/2025   \n",
       "1      755  RETENCIÓN GENERAL DE CONTRIBUCIONES  ...        27/08/2025   \n",
       "2      755  RETENCIÓN GENERAL DE CONTRIBUCIONES  ...        27/08/2025   \n",
       "3      755  RETENCIÓN GENERAL DE CONTRIBUCIONES  ...        27/08/2025   \n",
       "4      755  RETENCIÓN GENERAL DE CONTRIBUCIONES  ...        27/08/2025   \n",
       "\n",
       "  IMPORTE BASE CÁLCULO  CÓDIGO OPERACIÓN     LOTE FECHA MODIFICACIÓN  \\\n",
       "0                  NaN                 1  1022014         28/08/2025   \n",
       "1                  NaN                 1  1022014         28/08/2025   \n",
       "2                  NaN                 1  1022014         28/08/2025   \n",
       "3                  NaN                 1  1022014         28/08/2025   \n",
       "4                  NaN                 1  1022014         28/08/2025   \n",
       "\n",
       "  REMPLAZA A  REMPLAZADO POR NRO. CERTIFICADO ORIGINAL      USUARIO  \\\n",
       "0        NaN             NaN                       NaN  27248614590   \n",
       "1        NaN             NaN                       NaN  27248614590   \n",
       "2        NaN             NaN                       NaN  27248614590   \n",
       "3        NaN             NaN                       NaN  27248614590   \n",
       "4        NaN             NaN                       NaN  27248614590   \n",
       "\n",
       "   CÓDIGO DE TRAZABILIDAD  \n",
       "0                     NaN  \n",
       "1                     NaN  \n",
       "2                     NaN  \n",
       "3                     NaN  \n",
       "4                     NaN  \n",
       "\n",
       "[5 rows x 27 columns]"
      ]
     },
     "execution_count": 12,
     "metadata": {},
     "output_type": "execute_result"
    }
   ],
   "source": [
    "# Crear la columna DESCRIPCION REGIMEN según el valor de RÉGIMEN\n",
    "import numpy as np\n",
    "\n",
    "\n",
    "df_certificados['DESCRIPCION REGIMEN'] = np.where(\n",
    "    df_certificados['RÉGIMEN'] == 754,\n",
    "    'RET CONTRIB PATRON PRESTACION SERV DE INVESTIG Y SEGURIDAD',\n",
    "    np.where(\n",
    "        df_certificados['RÉGIMEN'] == 755,\n",
    "        'RETENCIÓN GENERAL DE CONTRIBUCIONES',\n",
    "        ''\n",
    "    )\n",
    ")\n",
    "\n",
    "# Reordenar para que 'DESCRIPCION REGIMEN' quede después de 'RÉGIMEN'\n",
    "cols = list(df_certificados.columns)\n",
    "regimen_idx = cols.index('RÉGIMEN')\n",
    "cols.remove('DESCRIPCION REGIMEN')\n",
    "cols.insert(regimen_idx + 1, 'DESCRIPCION REGIMEN')\n",
    "df_certificados = df_certificados[cols]\n",
    "df_certificados.head(5)"
   ]
  },
  {
   "cell_type": "code",
   "execution_count": 13,
   "id": "78e2cd0b",
   "metadata": {},
   "outputs": [
    {
     "name": "stderr",
     "output_type": "stream",
     "text": [
      "<>:2: SyntaxWarning: invalid escape sequence '\\m'\n",
      "<>:2: SyntaxWarning: invalid escape sequence '\\m'\n",
      "C:\\Users\\jorge\\AppData\\Local\\Temp\\ipykernel_20392\\3427893200.py:2: SyntaxWarning: invalid escape sequence '\\m'\n",
      "  df_certificados.to_csv('D:\\mefi\\certificados_tgp\\certificados_completo.csv', index=False, encoding='utf-8-sig')\n"
     ]
    }
   ],
   "source": [
    "# Guardar el DataFrame resultante en un nuevo archivo CSV\n",
    "df_certificados.to_csv('D:\\mefi\\certificados_tgp\\certificados_completo.csv', index=False, encoding='utf-8-sig')"
   ]
  }
 ],
 "metadata": {
  "kernelspec": {
   "display_name": "Python 3",
   "language": "python",
   "name": "python3"
  },
  "language_info": {
   "codemirror_mode": {
    "name": "ipython",
    "version": 3
   },
   "file_extension": ".py",
   "mimetype": "text/x-python",
   "name": "python",
   "nbconvert_exporter": "python",
   "pygments_lexer": "ipython3",
   "version": "3.13.2"
  }
 },
 "nbformat": 4,
 "nbformat_minor": 5
}
