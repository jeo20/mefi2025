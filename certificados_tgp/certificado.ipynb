{
 "cells": [
  {
   "cell_type": "code",
   "execution_count": 14,
   "id": "6d805738",
   "metadata": {},
   "outputs": [],
   "source": [
    "import pandas as pd\n",
    "import openpyxl"
   ]
  },
  {
   "cell_type": "code",
   "execution_count": 15,
   "id": "a88da2af",
   "metadata": {},
   "outputs": [
    {
     "name": "stderr",
     "output_type": "stream",
     "text": [
      "<>:2: SyntaxWarning: invalid escape sequence '\\m'\n",
      "<>:2: SyntaxWarning: invalid escape sequence '\\m'\n",
      "C:\\Users\\jorge\\AppData\\Local\\Temp\\ipykernel_3120\\3374849408.py:2: SyntaxWarning: invalid escape sequence '\\m'\n",
      "  df_ente = pd.read_excel('D:\\mefi\\certificados_tgp\\ENTE.xlsx', sheet_name='ENTE', engine='openpyxl')\n"
     ]
    },
    {
     "data": {
      "application/vnd.microsoft.datawrangler.viewer.v0+json": {
       "columns": [
        {
         "name": "index",
         "rawType": "object",
         "type": "string"
        },
        {
         "name": "0",
         "rawType": "object",
         "type": "unknown"
        }
       ],
       "ref": "9adadf68-c45d-4a90-96f6-8b06235102b7",
       "rows": [
        [
         "Número de Ente",
         "object"
        ],
        [
         "Id.Ente",
         "int64"
        ],
        [
         "CUIT",
         "object"
        ],
        [
         "Denominación Ente",
         "object"
        ],
        [
         "DOMICILIO",
         "object"
        ]
       ],
       "shape": {
        "columns": 1,
        "rows": 5
       }
      },
      "text/plain": [
       "Número de Ente       object\n",
       "Id.Ente               int64\n",
       "CUIT                 object\n",
       "Denominación Ente    object\n",
       "DOMICILIO            object\n",
       "dtype: object"
      ]
     },
     "execution_count": 15,
     "metadata": {},
     "output_type": "execute_result"
    }
   ],
   "source": [
    "# Leer el archivo ENTE.xlsx\n",
    "df_ente = pd.read_excel('D:\\mefi\\certificados_tgp\\ENTE.xlsx', sheet_name='ENTE', engine='openpyxl')\n",
    "df_ente.dtypes"
   ]
  },
  {
   "cell_type": "code",
   "execution_count": 16,
   "id": "e16b71e0",
   "metadata": {},
   "outputs": [
    {
     "name": "stdout",
     "output_type": "stream",
     "text": [
      "             NRO CERTIFICADO COD SEG   ESTADO       AGENTE  \\\n",
      "0  3070253399220250000006355   '5a0b  EMITIDO  30702533992   \n",
      "1  3070253399220250000006366   '5a16  EMITIDO  30702533992   \n",
      "2  3070253399220250000006365   '5a15  EMITIDO  30702533992   \n",
      "3  3070253399220250000006364   '5a14  EMITIDO  30702533992   \n",
      "4  3070253399220250000006363   '5a13  EMITIDO  30702533992   \n",
      "\n",
      "   RETENIDO/ ORDENANTE  FORM  IMPUESTO  RÉGIMEN FECHA EMISIÓN FECHA RET/PER  \\\n",
      "0          30717088243  2004       353      755    28/08/2025    27/08/2025   \n",
      "1          27257794402  2004       353      755    28/08/2025    27/08/2025   \n",
      "2          30718030400  2004       353      755    28/08/2025    27/08/2025   \n",
      "3          20202115307  2004       353      755    28/08/2025    27/08/2025   \n",
      "4          30716740885  2004       353      755    28/08/2025    27/08/2025   \n",
      "\n",
      "   ...  FECHA COMPROBANTE IMPORTE BASE CÁLCULO CÓDIGO OPERACIÓN     LOTE  \\\n",
      "0  ...         27/08/2025                  NaN                1  1022014   \n",
      "1  ...         27/08/2025                  NaN                1  1022014   \n",
      "2  ...         27/08/2025                  NaN                1  1022014   \n",
      "3  ...         27/08/2025                  NaN                1  1022014   \n",
      "4  ...         27/08/2025                  NaN                1  1022014   \n",
      "\n",
      "   FECHA MODIFICACIÓN REMPLAZA A  REMPLAZADO POR  NRO. CERTIFICADO ORIGINAL  \\\n",
      "0          28/08/2025        NaN             NaN                        NaN   \n",
      "1          28/08/2025        NaN             NaN                        NaN   \n",
      "2          28/08/2025        NaN             NaN                        NaN   \n",
      "3          28/08/2025        NaN             NaN                        NaN   \n",
      "4          28/08/2025        NaN             NaN                        NaN   \n",
      "\n",
      "       USUARIO CÓDIGO DE TRAZABILIDAD  \n",
      "0  27248614590                    NaN  \n",
      "1  27248614590                    NaN  \n",
      "2  27248614590                    NaN  \n",
      "3  27248614590                    NaN  \n",
      "4  27248614590                    NaN  \n",
      "\n",
      "[5 rows x 25 columns]\n"
     ]
    },
    {
     "name": "stderr",
     "output_type": "stream",
     "text": [
      "<>:2: SyntaxWarning: invalid escape sequence '\\m'\n",
      "<>:2: SyntaxWarning: invalid escape sequence '\\m'\n",
      "C:\\Users\\jorge\\AppData\\Local\\Temp\\ipykernel_3120\\2023455132.py:2: SyntaxWarning: invalid escape sequence '\\m'\n",
      "  df_certificados = pd.read_csv('D:\\mefi\\certificados_tgp\\Consulta-certificados-29_08_2025-1756476259521.csv', delimiter=',', encoding='latin1')\n"
     ]
    }
   ],
   "source": [
    "# Leer el archivo csv\n",
    "df_certificados = pd.read_csv('D:\\mefi\\certificados_tgp\\Consulta-certificados-29_08_2025-1756476259521.csv', delimiter=',', encoding='latin1')\n",
    "print(df_certificados.head(5))"
   ]
  },
  {
   "cell_type": "code",
   "execution_count": 17,
   "id": "9779be55",
   "metadata": {},
   "outputs": [
    {
     "data": {
      "text/plain": [
       "np.int64(0)"
      ]
     },
     "execution_count": 17,
     "metadata": {},
     "output_type": "execute_result"
    }
   ],
   "source": [
    "df_ente['CUIT'].isnull().sum()"
   ]
  },
  {
   "cell_type": "code",
   "execution_count": 24,
   "id": "0d6c05f2",
   "metadata": {},
   "outputs": [
    {
     "data": {
      "application/vnd.microsoft.datawrangler.viewer.v0+json": {
       "columns": [
        {
         "name": "index",
         "rawType": "object",
         "type": "string"
        },
        {
         "name": "0",
         "rawType": "object",
         "type": "unknown"
        }
       ],
       "ref": "be7f6512-563b-417a-9751-71eaba684087",
       "rows": [
        [
         "Número de Ente",
         "object"
        ],
        [
         "Id.Ente",
         "int64"
        ],
        [
         "CUIT",
         "object"
        ],
        [
         "Denominación Ente",
         "object"
        ],
        [
         "DOMICILIO",
         "object"
        ]
       ],
       "shape": {
        "columns": 1,
        "rows": 5
       }
      },
      "text/plain": [
       "Número de Ente       object\n",
       "Id.Ente               int64\n",
       "CUIT                 object\n",
       "Denominación Ente    object\n",
       "DOMICILIO            object\n",
       "dtype: object"
      ]
     },
     "execution_count": 24,
     "metadata": {},
     "output_type": "execute_result"
    }
   ],
   "source": [
    "# al df_ente la columan 'CUIT' la convierto a enteros\n",
    "df_ente['CUIT'] = df_ente['CUIT'].str.replace('-', '')\n",
    "df_ente['CUIT']\n",
    "df_ente.dtypes\n"
   ]
  },
  {
   "cell_type": "code",
   "execution_count": 25,
   "id": "a18b3f77",
   "metadata": {},
   "outputs": [
    {
     "data": {
      "application/vnd.microsoft.datawrangler.viewer.v0+json": {
       "columns": [
        {
         "name": "index",
         "rawType": "object",
         "type": "string"
        },
        {
         "name": "0",
         "rawType": "object",
         "type": "unknown"
        }
       ],
       "ref": "d50058da-bc45-48f3-87b8-b755897104a3",
       "rows": [
        [
         "Número de Ente",
         "object"
        ],
        [
         "Id.Ente",
         "int64"
        ],
        [
         "CUIT",
         "int64"
        ],
        [
         "Denominación Ente",
         "object"
        ],
        [
         "DOMICILIO",
         "object"
        ]
       ],
       "shape": {
        "columns": 1,
        "rows": 5
       }
      },
      "text/plain": [
       "Número de Ente       object\n",
       "Id.Ente               int64\n",
       "CUIT                  int64\n",
       "Denominación Ente    object\n",
       "DOMICILIO            object\n",
       "dtype: object"
      ]
     },
     "execution_count": 25,
     "metadata": {},
     "output_type": "execute_result"
    }
   ],
   "source": [
    "df_ente['CUIT'] = df_ente['CUIT'].astype(int)\n",
    "df_ente.dtypes"
   ]
  },
  {
   "cell_type": "code",
   "execution_count": 27,
   "id": "660c5925",
   "metadata": {},
   "outputs": [
    {
     "data": {
      "application/vnd.microsoft.datawrangler.viewer.v0+json": {
       "columns": [
        {
         "name": "index",
         "rawType": "object",
         "type": "string"
        },
        {
         "name": "0",
         "rawType": "object",
         "type": "unknown"
        }
       ],
       "ref": "5d5de517-15a5-4f30-b874-9e9aa182052b",
       "rows": [
        [
         "NRO CERTIFICADO",
         "object"
        ],
        [
         "COD SEG",
         "object"
        ],
        [
         "ESTADO",
         "object"
        ],
        [
         "AGENTE",
         "int64"
        ],
        [
         "RETENIDO/ ORDENANTE",
         "int64"
        ],
        [
         "FORM",
         "int64"
        ],
        [
         "IMPUESTO",
         "int64"
        ],
        [
         "RÉGIMEN",
         "int64"
        ],
        [
         "FECHA EMISIÓN",
         "object"
        ],
        [
         "FECHA RET/PER",
         "object"
        ],
        [
         "PERÍODO",
         "int64"
        ],
        [
         "TIPO COMP",
         "object"
        ],
        [
         "IMPORTE RET/PER",
         "object"
        ],
        [
         "IMPORTE COMPROBANTE",
         "object"
        ],
        [
         "NÚMERO COMPROBANTE",
         "int64"
        ],
        [
         "FECHA COMPROBANTE",
         "object"
        ],
        [
         "IMPORTE BASE CÁLCULO",
         "float64"
        ],
        [
         "CÓDIGO OPERACIÓN",
         "int64"
        ],
        [
         "LOTE",
         "int64"
        ],
        [
         "FECHA MODIFICACIÓN",
         "object"
        ],
        [
         "REMPLAZA A",
         "float64"
        ],
        [
         "REMPLAZADO POR",
         "float64"
        ],
        [
         "NRO. CERTIFICADO ORIGINAL",
         "float64"
        ],
        [
         "USUARIO",
         "int64"
        ],
        [
         "CÓDIGO DE TRAZABILIDAD",
         "float64"
        ]
       ],
       "shape": {
        "columns": 1,
        "rows": 25
       }
      },
      "text/plain": [
       "NRO CERTIFICADO               object\n",
       "COD SEG                       object\n",
       "ESTADO                        object\n",
       "AGENTE                         int64\n",
       "RETENIDO/ ORDENANTE            int64\n",
       "FORM                           int64\n",
       "IMPUESTO                       int64\n",
       "RÉGIMEN                        int64\n",
       "FECHA EMISIÓN                 object\n",
       "FECHA RET/PER                 object\n",
       "PERÍODO                        int64\n",
       "TIPO COMP                     object\n",
       "IMPORTE RET/PER               object\n",
       "IMPORTE COMPROBANTE           object\n",
       "NÚMERO COMPROBANTE             int64\n",
       "FECHA COMPROBANTE             object\n",
       "IMPORTE BASE CÁLCULO         float64\n",
       "CÓDIGO OPERACIÓN               int64\n",
       "LOTE                           int64\n",
       "FECHA MODIFICACIÓN            object\n",
       "REMPLAZA A                   float64\n",
       "REMPLAZADO POR               float64\n",
       "NRO. CERTIFICADO ORIGINAL    float64\n",
       "USUARIO                        int64\n",
       "CÓDIGO DE TRAZABILIDAD       float64\n",
       "dtype: object"
      ]
     },
     "execution_count": 27,
     "metadata": {},
     "output_type": "execute_result"
    }
   ],
   "source": [
    "df_certificados.dtypes"
   ]
  }
 ],
 "metadata": {
  "kernelspec": {
   "display_name": "Python 3",
   "language": "python",
   "name": "python3"
  },
  "language_info": {
   "codemirror_mode": {
    "name": "ipython",
    "version": 3
   },
   "file_extension": ".py",
   "mimetype": "text/x-python",
   "name": "python",
   "nbconvert_exporter": "python",
   "pygments_lexer": "ipython3",
   "version": "3.13.2"
  }
 },
 "nbformat": 4,
 "nbformat_minor": 5
}
